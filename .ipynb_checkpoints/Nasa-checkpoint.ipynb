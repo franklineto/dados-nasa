{
 "cells": [
  {
   "cell_type": "code",
   "execution_count": 1,
   "metadata": {},
   "outputs": [],
   "source": [
    "from pyspark.sql import SparkSession\n",
    "from pyspark.sql import SQLContext\n",
    "from pyspark.sql import Row"
   ]
  },
  {
   "cell_type": "code",
   "execution_count": 2,
   "metadata": {},
   "outputs": [
    {
     "name": "stdout",
     "output_type": "stream",
     "text": [
      "<SparkContext master=local[*] appName=PySparkShell>\n"
     ]
    }
   ],
   "source": [
    "print(sc)"
   ]
  },
  {
   "cell_type": "code",
   "execution_count": 3,
   "metadata": {},
   "outputs": [],
   "source": [
    "spSession = SparkSession.builder.master(\"local\").appName(\"NasaSQL\").getOrCreate()"
   ]
  },
  {
   "cell_type": "code",
   "execution_count": 4,
   "metadata": {},
   "outputs": [],
   "source": [
    "sqlContext = SQLContext(sc)"
   ]
  },
  {
   "cell_type": "code",
   "execution_count": 21,
   "metadata": {},
   "outputs": [],
   "source": [
    "RDD = sc.textFile(\"/home/neto/nasa/nasa_temp\")"
   ]
  },
  {
   "cell_type": "code",
   "execution_count": 22,
   "metadata": {},
   "outputs": [
    {
     "data": {
      "text/plain": [
       "106"
      ]
     },
     "execution_count": 22,
     "metadata": {},
     "output_type": "execute_result"
    }
   ],
   "source": [
    "RDD.count()"
   ]
  },
  {
   "cell_type": "code",
   "execution_count": 23,
   "metadata": {},
   "outputs": [],
   "source": [
    "RDD1 = RDD.map(lambda x: x.replace(\" - - [\", \" \"))"
   ]
  },
  {
   "cell_type": "code",
   "execution_count": 24,
   "metadata": {},
   "outputs": [],
   "source": [
    "RDD2 = RDD1.map(lambda x: x.replace(\"] \\\"GET \", \" GET\"))"
   ]
  },
  {
   "cell_type": "code",
   "execution_count": 25,
   "metadata": {},
   "outputs": [],
   "source": [
    "RDD3 = RDD2.map(lambda x: x.replace(\"\\\" \", \" \"))"
   ]
  },
  {
   "cell_type": "code",
   "execution_count": 26,
   "metadata": {},
   "outputs": [],
   "source": [
    "RDD4 = RDD3.map(lambda x: x.replace(\" -\", \"-\"))"
   ]
  },
  {
   "cell_type": "code",
   "execution_count": 27,
   "metadata": {},
   "outputs": [],
   "source": [
    "RDD5 = RDD4.map(lambda x: x.replace(\" HTTP\", \"-HTTP\"))"
   ]
  },
  {
   "cell_type": "code",
   "execution_count": 28,
   "metadata": {},
   "outputs": [],
   "source": [
    "RDD6 = RDD5.map(lambda x: x.replace(\" \", \",\"))"
   ]
  },
  {
   "cell_type": "code",
   "execution_count": 29,
   "metadata": {},
   "outputs": [],
   "source": [
    "RDD7 = RDD6.map(lambda line: line.split(\",\"))"
   ]
  },
  {
   "cell_type": "code",
   "execution_count": 30,
   "metadata": {},
   "outputs": [],
   "source": [
    "RDD8 = RDD7.map(lambda p: Row(host = p[0], data = p[1], cod_http = p[3], qtd_bytes = int(p[4])))"
   ]
  },
  {
   "cell_type": "code",
   "execution_count": 31,
   "metadata": {},
   "outputs": [],
   "source": [
    "nasaDF = spSession.createDataFrame(RDD8)"
   ]
  },
  {
   "cell_type": "code",
   "execution_count": 32,
   "metadata": {},
   "outputs": [
    {
     "name": "stdout",
     "output_type": "stream",
     "text": [
      "+--------+--------------------+--------------------+---------+\n",
      "|cod_http|                data|                host|qtd_bytes|\n",
      "+--------+--------------------+--------------------+---------+\n",
      "|     200|01/Aug/1995:00:00...|   in24.inetnebr.com|     1839|\n",
      "|     304|01/Aug/1995:00:00...|     uplherc.upl.com|        0|\n",
      "|     304|01/Aug/1995:00:00...|     uplherc.upl.com|        0|\n",
      "|     304|01/Aug/1995:00:00...|     uplherc.upl.com|        0|\n",
      "|     304|01/Aug/1995:00:00...|     uplherc.upl.com|        0|\n",
      "|     200|01/Aug/1995:00:00...|ix-esc-ca2-07.ix....|     1713|\n",
      "|     304|01/Aug/1995:00:00...|     uplherc.upl.com|        0|\n",
      "|     200|01/Aug/1995:00:00...|slppp6.intermind.net|     1687|\n",
      "|     200|01/Aug/1995:00:00...|piweba4y.prodigy.com|    11853|\n",
      "|     200|01/Aug/1995:00:00...|slppp6.intermind.net|     9202|\n",
      "|     200|01/Aug/1995:00:00...|slppp6.intermind.net|     3635|\n",
      "|     200|01/Aug/1995:00:00...|ix-esc-ca2-07.ix....|     1173|\n",
      "|     200|01/Aug/1995:00:00...|slppp6.intermind.net|     3047|\n",
      "|     304|01/Aug/1995:00:00...|     uplherc.upl.com|        0|\n",
      "|     200|01/Aug/1995:00:00...|        133.43.96.45|    10566|\n",
      "|     200|01/Aug/1995:00:00...|kgtyk4.kj.yamagat...|     7280|\n",
      "|     200|01/Aug/1995:00:00...|kgtyk4.kj.yamagat...|     5866|\n",
      "|     200|01/Aug/1995:00:00...|     d0ucr6.fnal.gov|     2743|\n",
      "|     200|01/Aug/1995:00:00...|ix-esc-ca2-07.ix....|     6849|\n",
      "|     200|01/Aug/1995:00:00...|     d0ucr6.fnal.gov|    14897|\n",
      "+--------+--------------------+--------------------+---------+\n",
      "only showing top 20 rows\n",
      "\n"
     ]
    }
   ],
   "source": [
    "nasaDF.show()"
   ]
  },
  {
   "cell_type": "code",
   "execution_count": 33,
   "metadata": {},
   "outputs": [
    {
     "name": "stdout",
     "output_type": "stream",
     "text": [
      "+--------+--------------------+--------------------+---------+\n",
      "|cod_http|                data|                host|qtd_bytes|\n",
      "+--------+--------------------+--------------------+---------+\n",
      "|     200|01/Aug/1995:00:00...|   in24.inetnebr.com|     1839|\n",
      "|     304|01/Aug/1995:00:00...|     uplherc.upl.com|        0|\n",
      "|     304|01/Aug/1995:00:00...|     uplherc.upl.com|        0|\n",
      "|     304|01/Aug/1995:00:00...|     uplherc.upl.com|        0|\n",
      "|     304|01/Aug/1995:00:00...|     uplherc.upl.com|        0|\n",
      "|     200|01/Aug/1995:00:00...|ix-esc-ca2-07.ix....|     1713|\n",
      "|     304|01/Aug/1995:00:00...|     uplherc.upl.com|        0|\n",
      "|     200|01/Aug/1995:00:00...|slppp6.intermind.net|     1687|\n",
      "|     200|01/Aug/1995:00:00...|piweba4y.prodigy.com|    11853|\n",
      "|     200|01/Aug/1995:00:00...|slppp6.intermind.net|     9202|\n",
      "|     200|01/Aug/1995:00:00...|slppp6.intermind.net|     3635|\n",
      "|     200|01/Aug/1995:00:00...|ix-esc-ca2-07.ix....|     1173|\n",
      "|     200|01/Aug/1995:00:00...|slppp6.intermind.net|     3047|\n",
      "|     304|01/Aug/1995:00:00...|     uplherc.upl.com|        0|\n",
      "|     200|01/Aug/1995:00:00...|        133.43.96.45|    10566|\n",
      "|     200|01/Aug/1995:00:00...|kgtyk4.kj.yamagat...|     7280|\n",
      "|     200|01/Aug/1995:00:00...|kgtyk4.kj.yamagat...|     5866|\n",
      "|     200|01/Aug/1995:00:00...|     d0ucr6.fnal.gov|     2743|\n",
      "|     200|01/Aug/1995:00:00...|ix-esc-ca2-07.ix....|     6849|\n",
      "|     200|01/Aug/1995:00:00...|     d0ucr6.fnal.gov|    14897|\n",
      "+--------+--------------------+--------------------+---------+\n",
      "only showing top 20 rows\n",
      "\n"
     ]
    }
   ],
   "source": [
    "nasaDF.select(\"*\").show()"
   ]
  },
  {
   "cell_type": "code",
   "execution_count": 34,
   "metadata": {},
   "outputs": [],
   "source": [
    "nasaDF.createOrReplaceTempView(\"dadosNasa\")"
   ]
  },
  {
   "cell_type": "code",
   "execution_count": 35,
   "metadata": {},
   "outputs": [
    {
     "name": "stdout",
     "output_type": "stream",
     "text": [
      "+--------+--------------------+--------------------+---------+\n",
      "|cod_http|                data|                host|qtd_bytes|\n",
      "+--------+--------------------+--------------------+---------+\n",
      "|     200|01/Aug/1995:00:00...|   in24.inetnebr.com|     1839|\n",
      "|     304|01/Aug/1995:00:00...|     uplherc.upl.com|        0|\n",
      "|     304|01/Aug/1995:00:00...|     uplherc.upl.com|        0|\n",
      "|     304|01/Aug/1995:00:00...|     uplherc.upl.com|        0|\n",
      "|     304|01/Aug/1995:00:00...|     uplherc.upl.com|        0|\n",
      "|     200|01/Aug/1995:00:00...|ix-esc-ca2-07.ix....|     1713|\n",
      "|     304|01/Aug/1995:00:00...|     uplherc.upl.com|        0|\n",
      "|     200|01/Aug/1995:00:00...|slppp6.intermind.net|     1687|\n",
      "|     200|01/Aug/1995:00:00...|piweba4y.prodigy.com|    11853|\n",
      "|     200|01/Aug/1995:00:00...|slppp6.intermind.net|     9202|\n",
      "|     200|01/Aug/1995:00:00...|slppp6.intermind.net|     3635|\n",
      "|     200|01/Aug/1995:00:00...|ix-esc-ca2-07.ix....|     1173|\n",
      "|     200|01/Aug/1995:00:00...|slppp6.intermind.net|     3047|\n",
      "|     304|01/Aug/1995:00:00...|     uplherc.upl.com|        0|\n",
      "|     200|01/Aug/1995:00:00...|        133.43.96.45|    10566|\n",
      "|     200|01/Aug/1995:00:00...|kgtyk4.kj.yamagat...|     7280|\n",
      "|     200|01/Aug/1995:00:00...|kgtyk4.kj.yamagat...|     5866|\n",
      "|     200|01/Aug/1995:00:00...|     d0ucr6.fnal.gov|     2743|\n",
      "|     200|01/Aug/1995:00:00...|ix-esc-ca2-07.ix....|     6849|\n",
      "|     200|01/Aug/1995:00:00...|     d0ucr6.fnal.gov|    14897|\n",
      "+--------+--------------------+--------------------+---------+\n",
      "only showing top 20 rows\n",
      "\n"
     ]
    }
   ],
   "source": [
    "spSession.sql(\"select * from dadosNasa\").show()"
   ]
  },
  {
   "cell_type": "code",
   "execution_count": 38,
   "metadata": {},
   "outputs": [
    {
     "name": "stdout",
     "output_type": "stream",
     "text": [
      "+---------------+\n",
      "|qtd_host_unicos|\n",
      "+---------------+\n",
      "|              4|\n",
      "+---------------+\n",
      "\n"
     ]
    }
   ],
   "source": [
    "spSession.sql(\"select count(1) as qtd_host_unicos from (select host, count(1) qtd from dadosNasa group by host having count(1) = 1)\").show()"
   ]
  },
  {
   "cell_type": "code",
   "execution_count": 53,
   "metadata": {},
   "outputs": [
    {
     "name": "stdout",
     "output_type": "stream",
     "text": [
      "+--------------------+-------------+---+\n",
      "|                host|qtd_erros_404| rk|\n",
      "+--------------------+-------------+---+\n",
      "|     uplherc.upl.com|           16|  1|\n",
      "|        133.43.96.45|           11|  2|\n",
      "|www-d3.proxy.aol.com|           10|  3|\n",
      "|piweba4y.prodigy.com|            8|  4|\n",
      "|       133.68.18.180|            6|  5|\n",
      "|ix-esc-ca2-07.ix....|            6|  5|\n",
      "|slppp6.intermind.net|            6|  5|\n",
      "+--------------------+-------------+---+\n",
      "\n"
     ]
    }
   ],
   "source": [
    "spSession.sql(\"select * from (select host, qtd_erros_404, rank()over(partition by chv order by qtd_erros_404 desc) as rk from (select host, count(1) as qtd_erros_404, 1 as chv from dadosNasa where cod_http = '200' group by host)) where rk < 6\").show()"
   ]
  },
  {
   "cell_type": "code",
   "execution_count": 58,
   "metadata": {},
   "outputs": [
    {
     "name": "stdout",
     "output_type": "stream",
     "text": [
      "+-----------+--------+\n",
      "|       data|count(1)|\n",
      "+-----------+--------+\n",
      "|01/Aug/1995|      17|\n",
      "+-----------+--------+\n",
      "\n"
     ]
    }
   ],
   "source": [
    "spSession.sql(\"select substr(data, 1, 11) data, count(1) from dadosNasa where cod_http = '304' group by substr(data, 1, 11)\").show()"
   ]
  },
  {
   "cell_type": "code",
   "execution_count": 60,
   "metadata": {},
   "outputs": [
    {
     "name": "stdout",
     "output_type": "stream",
     "text": [
      "+-----------+\n",
      "|total_bytes|\n",
      "+-----------+\n",
      "|    1115275|\n",
      "+-----------+\n",
      "\n"
     ]
    }
   ],
   "source": [
    "spSession.sql(\"select sum(qtd_bytes) total_bytes from dadosNasa\").show()"
   ]
  },
  {
   "cell_type": "code",
   "execution_count": null,
   "metadata": {},
   "outputs": [],
   "source": []
  }
 ],
 "metadata": {
  "kernelspec": {
   "display_name": "Python 3",
   "language": "python",
   "name": "python3"
  },
  "language_info": {
   "codemirror_mode": {
    "name": "ipython",
    "version": 3
   },
   "file_extension": ".py",
   "mimetype": "text/x-python",
   "name": "python",
   "nbconvert_exporter": "python",
   "pygments_lexer": "ipython3",
   "version": "3.7.3"
  }
 },
 "nbformat": 4,
 "nbformat_minor": 2
}
